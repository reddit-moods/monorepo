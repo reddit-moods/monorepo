{
 "cells": [
  {
   "cell_type": "code",
   "execution_count": 46,
   "metadata": {},
   "outputs": [],
   "source": [
    "import requests\n",
    "from bs4 import BeautifulSoup\n",
    "\n",
    "url ='https://redditlist.com/sfw'\n",
    "response = requests.get(url)\n",
    "\n",
    "soup = BeautifulSoup(response.text, \"html.parser\")\n",
    "\n",
    "subscribers_section = soup.find('h3', text='Subscribers').find_next('div', class_='listing-item')\n",
    "current_item = subscribers_section\n",
    "\n",
    "subreddits = []\n",
    "\n",
    "for i in range(100):\n",
    "    sub = current_item.find('a').text\n",
    "    subreddits.append(sub)\n",
    "    current_item = current_item.find_next('div', class_='listing-item')"
   ]
  },
  {
   "cell_type": "code",
   "execution_count": 69,
   "metadata": {},
   "outputs": [],
   "source": [
    "import praw\n",
    "\n",
    "reddit = praw.Reddit(\n",
    "    client_id = 'client_id',\n",
    "    client_secret = 'secret_key',\n",
    "    user_agent = 'user_agent'\n",
    ")\n",
    "\n",
    "with open(\"subreddits1.txt\", \"w\", encoding=\"utf-8\") as f:\n",
    "    for i in subreddits[0:25]:\n",
    "        for submission in reddit.subreddit(i).hot(limit=25):\n",
    "           f.write(submission.title + \"\\n\")\n",
    "        \n",
    "with open(\"subreddits2.txt\", \"w\", encoding=\"utf-8\") as f:\n",
    "    for i in subreddits[25:50]:\n",
    "        for submission in reddit.subreddit(i).hot(limit=25):\n",
    "           f.write(submission.title + \"\\n\")\n",
    "        \n",
    "with open(\"subreddits3.txt\", \"w\", encoding=\"utf-8\") as f:\n",
    "    for i in subreddits[50:75]:\n",
    "        for submission in reddit.subreddit(i).hot(limit=25):\n",
    "           f.write(submission.title + \"\\n\")\n",
    "        \n",
    "with open(\"subreddits4.txt\", \"w\", encoding=\"utf-8\") as f:\n",
    "    for i in subreddits[75:100]:\n",
    "        for submission in reddit.subreddit(i).hot(limit=25):\n",
    "           f.write(submission.title + \"\\n\")"
   ]
  }
 ],
 "metadata": {
  "kernelspec": {
   "display_name": "Python 3",
   "language": "python",
   "name": "python3"
  },
  "language_info": {
   "codemirror_mode": {
    "name": "ipython",
    "version": 3
   },
   "file_extension": ".py",
   "mimetype": "text/x-python",
   "name": "python",
   "nbconvert_exporter": "python",
   "pygments_lexer": "ipython3",
   "version": "3.8.5"
  }
 },
 "nbformat": 4,
 "nbformat_minor": 4
}
